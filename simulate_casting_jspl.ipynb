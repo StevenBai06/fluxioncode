{
  "nbformat": 4,
  "nbformat_minor": 0,
  "metadata": {
    "colab": {
      "provenance": [],
      "include_colab_link": true
    },
    "kernelspec": {
      "name": "python3",
      "display_name": "Python 3"
    },
    "language_info": {
      "name": "python"
    }
  },
  "cells": [
    {
      "cell_type": "markdown",
      "metadata": {
        "id": "view-in-github",
        "colab_type": "text"
      },
      "source": [
        "<a href=\"https://colab.research.google.com/github/StevenBai06/fluxioncode/blob/main/simulate_casting_jspl.ipynb\" target=\"_parent\"><img src=\"https://colab.research.google.com/assets/colab-badge.svg\" alt=\"Open In Colab\"/></a>"
      ]
    },
    {
      "cell_type": "code",
      "execution_count": null,
      "metadata": {
        "id": "nkjA3ACD1bz8"
      },
      "outputs": [],
      "source": [
        "import pandas as pd\n",
        "import numpy as np\n",
        "import random\n",
        "\n",
        "num_batches = 100\n",
        "\n",
        "pat_cast_speed_min = 0.8\n",
        "pat_cast_speed_max = 1.8\n",
        "pat_mold_target = 0.15\n",
        "pat_cooling_min = 10;\n",
        "pat_cooling_max = 30;\n",
        "\n",
        "nal_cast_speed_min = 1.0\n",
        "nal_cast_speed_max = 1.5\n",
        "nal_mold_target = 0.12\n",
        "nal_cooling_min = 5;\n",
        "nal_cooling_max = 20;\n",
        "\n",
        "data = []\n",
        "\n",
        "for batch in range(1, num_batches + 1):\n",
        "  pat_casting_speed = round(random.uniform(pat_cast_speed_min, pat_cast_speed_max), 2)\n",
        "  pat_mold_level = round(np.random.normal(pat_mold_target, 0.02), 3)\n",
        "  pat_cooling_rate = round(random.uniform(pat_cooling_min, pat_cooling_max), 1)\n",
        "  pat_yield_loss = round(random.uniform(1, 3), 2)\n",
        "  pat_breakout_prob = round(min(0.05 + pat_yield_loss / 100, 1.0), 3)\n",
        "\n",
        "  nal_casting_speed = round(random.uniform(nal_cast_speed_min, nal_cast_speed_max), 2)\n",
        "  nal_mold_level = round(np.random.normal(nal_mold_target, 0.02), 3)\n",
        "  nal_cooling_rate = round(random.uniform(nal_cooling_min, nal_cooling_max), 1)\n",
        "  nal_yield_loss = round(random.uniform(1, 3), 2)\n",
        "  nal_breakout_prob = round(min(0.05 + nal_yield_loss / 100, 1.0), 3)\n",
        "\n",
        "data.append({\n",
        "    \"Batch\": batch,\n",
        "    \"Patratu Casting Speed\": pat_casting_speed,\n",
        "    \"Patratu Mold Level\": pat_mold_level,\n",
        "    \"Patratu Cooling Rate\": pat_cooling_rate,\n",
        "    \"Patratu Yield Loss\": pat_yield_loss,\n",
        "    \"Patratu Breakout Probability\": pat_breakout_prob,\n",
        "\n",
        "    \"Nalratu Casting Speed\": nal_casting_speed,\n",
        "    \"Nalratu Mold Level\": nal_mold_level,\n",
        "    \"Nalratu Cooling Rate\": nal_cooling_rate,\n",
        "    \"Nalratu Yield Loss\": nal_yield_loss,\n",
        "    \"Nalratu Breakout Probability\": nal_breakout_prob\n",
        "})\n",
        "\n",
        "df = pd.DataFrame(data)\n",
        "df.to_csv(\"casting_output.csv\", index=False)"
      ]
    },
    {
      "cell_type": "code",
      "source": [
        "df = pd.read_csv(\"casting_output.csv\")\n",
        "\n",
        "# Calculate and print averages for Patratu\n",
        "print(\"\\n--- Patratu Averages (from\", len(df), \"batches) ---\")\n",
        "print(\"Casting Speed:           \", round(df[\"Patratu Casting Speed\"].mean(), 3))\n",
        "print(\"Mold Level:              \", round(df[\"Patratu Mold Level\"].mean(), 3))\n",
        "print(\"Cooling Rate:            \", round(df[\"Patratu Cooling Rate\"].mean(), 3))\n",
        "print(\"Yield Loss:              \", round(df[\"Patratu Yield Loss\"].mean(), 3))\n",
        "print(\"Breakout Probability:    \", round(df[\"Patratu Breakout Probability\"].mean(), 3))\n",
        "\n",
        "# Calculate and print averages for Nalratu\n",
        "print(\"\\n--- Nalratu Averages (from\", len(df), \"batches) ---\")\n",
        "print(\"Casting Speed:           \", round(df[\"Nalratu Casting Speed\"].mean(), 3))\n",
        "print(\"Mold Level:              \", round(df[\"Nalratu Mold Level\"].mean(), 3))\n",
        "print(\"Cooling Rate:            \", round(df[\"Nalratu Cooling Rate\"].mean(), 3))\n",
        "print(\"Yield Loss:              \", round(df[\"Nalratu Yield Loss\"].mean(), 3))\n",
        "print(\"Breakout Probability:    \", round(df[\"Nalratu Breakout Probability\"].mean(), 3))"
      ],
      "metadata": {
        "colab": {
          "base_uri": "https://localhost:8080/"
        },
        "id": "TH4j35FN3uZC",
        "outputId": "1e0b8efa-e6e5-4724-c4cf-557a60d6f71e"
      },
      "execution_count": null,
      "outputs": [
        {
          "output_type": "stream",
          "name": "stdout",
          "text": [
            "\n",
            "--- Patratu Averages (from 1 batches) ---\n",
            "Casting Speed:            1.32\n",
            "Mold Level:               0.176\n",
            "Cooling Rate:             12.9\n",
            "Yield Loss:               1.68\n",
            "Breakout Probability:     0.067\n",
            "\n",
            "--- Nalratu Averages (from 1 batches) ---\n",
            "Casting Speed:            1.01\n",
            "Mold Level:               0.146\n",
            "Cooling Rate:             18.1\n",
            "Yield Loss:               2.19\n",
            "Breakout Probability:     0.072\n"
          ]
        }
      ]
    }
  ]
}